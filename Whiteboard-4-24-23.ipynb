{
 "cells": [
  {
   "cell_type": "code",
   "execution_count": null,
   "id": "5d8d1108",
   "metadata": {},
   "outputs": [],
   "source": [
    "# Using the PokeAPI create a function that takes in two Pokemon and prints out who would win in a fight.\n",
    "# The battle winner is decided by who has the largest attack power.\n",
    "# If they have equal attack powers the function will print out , ‘It’s a tie.’\n",
    "# If one or both of the inputs aren’t pokemon in the PokeAPI tell the user to try something else.\n",
    "#Example:\n",
    "# Input:  ‘Mew’, ‘Ditto’\n",
    "# Output: In a battle between Mew and Ditto, the winner is Mew."
   ]
  },
  {
   "cell_type": "code",
   "execution_count": null,
   "id": "5f945720",
   "metadata": {},
   "outputs": [],
   "source": [
    "#input 2 pokemon\n",
    "#pull data from api\n",
    "    #data[stats][stat][name] == attack then return data[stats][base_stat]\n",
    "#if pokemon1.base_stat < pokemon2.base_stat = pokemon2 wins\n",
    "#elif pokemon1.base_stat == pokemon2.base_stat = tie\n",
    "#else (if response is not 200) then 'try something else'\n",
    "\n",
    "#BONUS\n",
    "\n",
    "#input will be 2 lists of 5 pokemon\n",
    "#call api to return data attack power for all pokemon in lists\n",
    "#use sum lust method to add all attack power\n",
    "#do comparison"
   ]
  },
  {
   "cell_type": "code",
   "execution_count": 12,
   "id": "37258cc7",
   "metadata": {},
   "outputs": [
    {
     "name": "stdout",
     "output_type": "stream",
     "text": [
      "Error: Status Code 404\n"
     ]
    },
    {
     "ename": "TypeError",
     "evalue": "'NoneType' object is not subscriptable",
     "output_type": "error",
     "traceback": [
      "\u001b[0;31m---------------------------------------------------------------------------\u001b[0m",
      "\u001b[0;31mTypeError\u001b[0m                                 Traceback (most recent call last)",
      "\u001b[0;32m/var/folders/81/2s1hll6d1mj6l8m6kxkk6kp00000gn/T/ipykernel_12741/1133968244.py\u001b[0m in \u001b[0;36m<module>\u001b[0;34m\u001b[0m\n\u001b[1;32m     50\u001b[0m \u001b[0mpoke_list1\u001b[0m \u001b[0;34m=\u001b[0m \u001b[0;34m[\u001b[0m\u001b[0;34m'moltres'\u001b[0m\u001b[0;34m,\u001b[0m \u001b[0;34m'zapdos'\u001b[0m\u001b[0;34m,\u001b[0m \u001b[0;34m'articuno'\u001b[0m\u001b[0;34m,\u001b[0m \u001b[0;34m'ho-oh'\u001b[0m\u001b[0;34m,\u001b[0m \u001b[0;34m'lugia'\u001b[0m\u001b[0;34m]\u001b[0m\u001b[0;34m\u001b[0m\u001b[0;34m\u001b[0m\u001b[0m\n\u001b[1;32m     51\u001b[0m \u001b[0mpoke_list2\u001b[0m \u001b[0;34m=\u001b[0m \u001b[0;34m[\u001b[0m\u001b[0;34m'regigigas'\u001b[0m\u001b[0;34m,\u001b[0m \u001b[0;34m'regice'\u001b[0m\u001b[0;34m,\u001b[0m \u001b[0;34m'regirock'\u001b[0m\u001b[0;34m,\u001b[0m \u001b[0;34m'registeel'\u001b[0m\u001b[0;34m,\u001b[0m \u001b[0;34m'aegislash'\u001b[0m\u001b[0;34m]\u001b[0m\u001b[0;34m\u001b[0m\u001b[0;34m\u001b[0m\u001b[0m\n\u001b[0;32m---> 52\u001b[0;31m \u001b[0mpokemon_gym_battle\u001b[0m\u001b[0;34m(\u001b[0m\u001b[0mpoke_list1\u001b[0m\u001b[0;34m,\u001b[0m \u001b[0mpoke_list2\u001b[0m\u001b[0;34m)\u001b[0m\u001b[0;34m\u001b[0m\u001b[0;34m\u001b[0m\u001b[0m\n\u001b[0m",
      "\u001b[0;32m/var/folders/81/2s1hll6d1mj6l8m6kxkk6kp00000gn/T/ipykernel_12741/1133968244.py\u001b[0m in \u001b[0;36mpokemon_gym_battle\u001b[0;34m(pokelist1, pokelist2)\u001b[0m\n\u001b[1;32m     33\u001b[0m     \u001b[0;32mfor\u001b[0m \u001b[0mpokemon\u001b[0m \u001b[0;32min\u001b[0m \u001b[0mpokelist2\u001b[0m\u001b[0;34m:\u001b[0m\u001b[0;34m\u001b[0m\u001b[0;34m\u001b[0m\u001b[0m\n\u001b[1;32m     34\u001b[0m         \u001b[0mapi_return\u001b[0m \u001b[0;34m=\u001b[0m \u001b[0mpoke_api_call\u001b[0m\u001b[0;34m(\u001b[0m\u001b[0mpokemon\u001b[0m\u001b[0;34m)\u001b[0m\u001b[0;34m\u001b[0m\u001b[0;34m\u001b[0m\u001b[0m\n\u001b[0;32m---> 35\u001b[0;31m         \u001b[0mpname\u001b[0m \u001b[0;34m=\u001b[0m \u001b[0mapi_return\u001b[0m\u001b[0;34m[\u001b[0m\u001b[0;36m0\u001b[0m\u001b[0;34m]\u001b[0m\u001b[0;34m\u001b[0m\u001b[0;34m\u001b[0m\u001b[0m\n\u001b[0m\u001b[1;32m     36\u001b[0m         \u001b[0mpattack\u001b[0m \u001b[0;34m=\u001b[0m \u001b[0mapi_return\u001b[0m\u001b[0;34m[\u001b[0m\u001b[0;36m1\u001b[0m\u001b[0;34m]\u001b[0m\u001b[0;34m\u001b[0m\u001b[0;34m\u001b[0m\u001b[0m\n\u001b[1;32m     37\u001b[0m         \u001b[0mnew_sum2\u001b[0m \u001b[0;34m+=\u001b[0m \u001b[0mapi_return\u001b[0m\u001b[0;34m[\u001b[0m\u001b[0;36m1\u001b[0m\u001b[0;34m]\u001b[0m\u001b[0;34m\u001b[0m\u001b[0;34m\u001b[0m\u001b[0m\n",
      "\u001b[0;31mTypeError\u001b[0m: 'NoneType' object is not subscriptable"
     ]
    }
   ],
   "source": [
    "import requests\n",
    "def poke_api_call(poke_name):\n",
    "    response = requests.get(f\"https://pokeapi.co/api/v2/pokemon/{poke_name}\")\n",
    "    if response.status_code == 200:\n",
    "        data = response.json()\n",
    "         # print(f\"Success. 'data' for {poke_name} ready\")\n",
    "        pokemon_dict = {key: data[key][1] for key in ['stats']}\n",
    "        return [poke_name, pokemon_dict['stats']['base_stat']]\n",
    "    else:\n",
    "        print(f\"Error: Status Code {response.status_code}\")\n",
    "def pokemon_battle(poke1, poke2):\n",
    "    return_string = \"\"\n",
    "    if poke1[1] > poke2[1]:\n",
    "        return_string = f\"{poke1[0].title()} wins the battle against {poke2[0].title()}!\"\n",
    "    elif poke1[1] < poke2[1]:\n",
    "        return_string = f\"{poke2[0].title()} wins the battle against {poke1[0].title()}!\"\n",
    "    elif poke1[1] == poke2[1]:\n",
    "        return_string = f\"It's a tie between {poke2[0].title()} and {poke1[0].title()}!\"\n",
    "    return return_string\n",
    "def pokemon_gym_battle(pokelist1, pokelist2):\n",
    "    return_string = \"\"\n",
    "    new_list1 = []\n",
    "    new_sum1 = 0\n",
    "    new_list2 = []\n",
    "    new_sum2 = 0\n",
    "    for pokemon in pokelist1:\n",
    "        api_return = poke_api_call(pokemon)\n",
    "        pname = api_return[0]\n",
    "        pattack = api_return[1]\n",
    "        new_sum1 += api_return[1]\n",
    "        new_list1.append({pname: pattack})\n",
    "    new_list1.append(sum([]))\n",
    "    for pokemon in pokelist2:\n",
    "        api_return = poke_api_call(pokemon)\n",
    "        pname = api_return[0]\n",
    "        pattack = api_return[1]\n",
    "        new_sum2 += api_return[1]\n",
    "        new_list2.append({pname: pattack})\n",
    "    if new_sum1 > new_sum2:\n",
    "        return_string = f\"Party 1 wins the battle!\"\n",
    "    elif new_sum1 < new_sum2:\n",
    "        return_string = f\"Party 2 wins the battle!\"\n",
    "    elif new_sum1 == new_sum2:\n",
    "        return_string = f\"It's a tie between the two parties!\"\n",
    "    return return_string\n",
    "# One Pokemon Each! Let the battle BEGIN!\n",
    "# print(pokemon_battle(poke_api_call('mew'), poke_api_call('mew')))\n",
    "# print(pokemon_battle(poke_api_call('pikachu'), poke_api_call('mew')))\n",
    "# Five Pokemon Each! Let the battle BEGIN!\n",
    "poke_list1 = ['moltres', 'zapdos', 'articuno', 'ho-oh', 'lugia']\n",
    "poke_list2 = ['regigigas', 'regice', 'regirock', 'registeel', 'aegislash']\n",
    "pokemon_gym_battle(poke_list1, poke_list2)"
   ]
  },
  {
   "cell_type": "code",
   "execution_count": null,
   "id": "5394cf2a",
   "metadata": {},
   "outputs": [],
   "source": []
  }
 ],
 "metadata": {
  "kernelspec": {
   "display_name": "Python 3 (ipykernel)",
   "language": "python",
   "name": "python3"
  },
  "language_info": {
   "codemirror_mode": {
    "name": "ipython",
    "version": 3
   },
   "file_extension": ".py",
   "mimetype": "text/x-python",
   "name": "python",
   "nbconvert_exporter": "python",
   "pygments_lexer": "ipython3",
   "version": "3.9.13"
  }
 },
 "nbformat": 4,
 "nbformat_minor": 5
}
