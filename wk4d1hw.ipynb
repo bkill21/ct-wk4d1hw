{
 "cells": [
  {
   "cell_type": "code",
   "execution_count": null,
   "id": "d69ddf0d",
   "metadata": {},
   "outputs": [],
   "source": [
    "#Week 4 Day 1 Homework"
   ]
  },
  {
   "cell_type": "code",
   "execution_count": null,
   "id": "4a9d1ebc",
   "metadata": {},
   "outputs": [],
   "source": [
    "#Sum Factorial (7kyu)"
   ]
  },
  {
   "cell_type": "code",
   "execution_count": null,
   "id": "d9708788",
   "metadata": {},
   "outputs": [],
   "source": [
    "def sum_factorial(alist):\n",
    "    output_sum = 0  #O(1)\n",
    "    for i in alist: #O(n)\n",
    "        factorial = 1 #O(1)\n",
    "        for num in range(1, i+1): #O(n)\n",
    "            factorial *= num #0(1)\n",
    "        output_sum += factorial #O(1)\n",
    "    return output_sum #O(1)\n",
    "\n",
    "#Time complexity: O(n^2 + 1*5) => O(n^2)\n",
    "#Space complexity: O(n)"
   ]
  },
  {
   "cell_type": "code",
   "execution_count": null,
   "id": "b71d4436",
   "metadata": {},
   "outputs": [],
   "source": [
    "#Split Strings (6kyu)"
   ]
  },
  {
   "cell_type": "code",
   "execution_count": null,
   "id": "b2e87eca",
   "metadata": {},
   "outputs": [],
   "source": [
    "def solution(input_str):\n",
    "    output = [] #0(1)\n",
    "\n",
    "    if len(input_str) % 2 != 0: #O(1)\n",
    "        input_str += \"_\" #O(1)\n",
    "\n",
    "    for i in range(0, len(input_str), 2): #O(n)\n",
    "        output.append(input_str[i : i + 2]) #O(1og n)\n",
    "    return output #0(1)\n",
    "\n",
    "#Time complexity: O(n + log n + 1*4) => O(n)\n",
    "#Space complexity: O(log n)"
   ]
  },
  {
   "cell_type": "code",
   "execution_count": null,
   "id": "d0dcd6ab",
   "metadata": {},
   "outputs": [],
   "source": [
    "# Multiples of 3 or 5 (6kyu)"
   ]
  },
  {
   "cell_type": "code",
   "execution_count": null,
   "id": "e676c84c",
   "metadata": {},
   "outputs": [],
   "source": [
    "def solution(number):\n",
    "    total = 0 #O(1)\n",
    "    if number <=0: #O(1)\n",
    "        return False #O(1)\n",
    "    for i in range(number): #O(n)\n",
    "        if i % 3 == 0 or i % 5 == 0: #O(1)\n",
    "            total += i  #O(1)  \n",
    "    return total #O(1)\n",
    "\n",
    "#Time complexity: O(n + 1*6) => O(n)\n",
    "#Space complexity: O(n)"
   ]
  }
 ],
 "metadata": {
  "kernelspec": {
   "display_name": "Python 3 (ipykernel)",
   "language": "python",
   "name": "python3"
  },
  "language_info": {
   "codemirror_mode": {
    "name": "ipython",
    "version": 3
   },
   "file_extension": ".py",
   "mimetype": "text/x-python",
   "name": "python",
   "nbconvert_exporter": "python",
   "pygments_lexer": "ipython3",
   "version": "3.9.13"
  }
 },
 "nbformat": 4,
 "nbformat_minor": 5
}
