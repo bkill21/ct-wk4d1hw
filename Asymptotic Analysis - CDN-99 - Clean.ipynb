{
 "cells": [
  {
   "cell_type": "markdown",
   "metadata": {},
   "source": [
    "# Asymptotic Analysis & Data Structures\n",
    "\n",
    "### Topics to discuss today:\n",
    "\n",
    "<ul>\n",
    "    <li>What is Asymptotic Analysis?</li>\n",
    "    <li>Classifying time complexities</li>\n",
    "    <li>Classifying space complexities</li>\n",
    "    <li>Implementing a LinkedList</li>\n",
    "</ul>"
   ]
  },
  {
   "cell_type": "markdown",
   "metadata": {},
   "source": [
    "### What is Asymptotic Analysis?\n",
    "\n",
    "Asymptotic analysis refers to setting mathematical bounds of an algorithms run-time performance. Asymptotic analysis is used for estimating time and space complexity.\n",
    "\n",
    "There are three metrics we measure:\n",
    "<ul>\n",
    "<li><b>Best Case</b> − Minimum time required for running.</li>\n",
    "<li><b>Average Case</b> − Average time required for running.</li>\n",
    "<li><b>Worst Case</b> − Maximum time required for running.</li>\n",
    "</ul>\n",
    "\n",
    "Here are the two major asymptotic notations that we'll be focusing on today:\n",
    "<ul>\n",
    "<li>Ο Notation (Big O Notation)</li>\n",
    "<li>Ω Notation (Omega Notation)</li>\n",
    "</ul>\n",
    "\n",
    "#### Big O Notation\n",
    "Big O notation expresses the <b>upper bound</b> of an algorithm's execution time. This measures the <b>worst case</b> time complexity.\n",
    "\n",
    "#### Omega Notation\n",
    "Omega notation expresses the <b>lower bound</b> of an algorithm's execution time. This measures the <b>best case</b> time complexity."
   ]
  },
  {
   "cell_type": "markdown",
   "metadata": {},
   "source": [
    "\n",
    "\n",
    "<table style=\"text-align:left;\" class=\"table table-bordered\">\n",
    "    <thead>\n",
    "        <tr>\n",
    "            <th>Name</th>\n",
    "            <th>Time Complexity</th>\n",
    "        </tr>\n",
    "    </thead>\n",
    "\n",
    "  <tr>\n",
    "<td>constant</td>\n",
    "<td>Ο(1)</td>\n",
    "</tr>\n",
    "<tr>\n",
    "<td>logarithmic</td>\n",
    "<td>Ο(log n)</td>\n",
    "</tr>\n",
    "<tr>\n",
    "<td>linear</td>\n",
    "<td>Ο(n)</td>\n",
    "</tr>\n",
    "<tr>\n",
    "<td>n log n</td>\n",
    "<td>Ο(n log n)</td>\n",
    "</tr>\n",
    "<tr>\n",
    "<td>quadratic</td>\n",
    "<td>Ο(n<sup>2</sup>)</td>\n",
    "</tr>\n",
    "<tr>\n",
    "<td>cubic</td>\n",
    "<td>Ο(n<sup>3</sup>)</td>\n",
    "</tr>\n",
    "<tr>\n",
    "<td>polynomial</td>\n",
    "<td>n<sup>Ο(1)</sup></td>\n",
    "</tr>\n",
    "<tr>\n",
    "<td>exponential</td>\n",
    "<td>2<sup>Ο(n)</sup></td>\n",
    "</tr>\n",
    "</table>\n",
    "\n",
    "Extra resources:\n",
    "https://www.youtube.com/watch?v=0oDAlMwTrLo"
   ]
  },
  {
   "cell_type": "markdown",
   "metadata": {},
   "source": [
    "##### O(1) Example\n",
    "No matter the size of the input data, the execution time will always be the same"
   ]
  },
  {
   "cell_type": "code",
   "execution_count": 3,
   "metadata": {},
   "outputs": [],
   "source": [
    "def compare_nums(num1, num2):\n",
    "    if num1 > num2: #O(1) \n",
    "        return num1\n",
    "    elif num1 == num2: #O(1)\n",
    "        return None\n",
    "    else:\n",
    "        return num2\n",
    "    \n",
    "#     return num1 if num1 > num2 else num2\n",
    "\n",
    "#Time complexity O(1 + 1) = O(1) because use only greatest complexity of the two"
   ]
  },
  {
   "cell_type": "code",
   "execution_count": 10,
   "metadata": {},
   "outputs": [
    {
     "name": "stdout",
     "output_type": "stream",
     "text": [
      "248 ns ± 23.1 ns per loop (mean ± std. dev. of 7 runs, 1000000 loops each)\n"
     ]
    }
   ],
   "source": [
    "%timeit compare_nums(5,6)  #these take same amount of time"
   ]
  },
  {
   "cell_type": "code",
   "execution_count": 11,
   "metadata": {},
   "outputs": [
    {
     "name": "stdout",
     "output_type": "stream",
     "text": [
      "229 ns ± 32.6 ns per loop (mean ± std. dev. of 7 runs, 1000000 loops each)\n"
     ]
    }
   ],
   "source": [
    "%timeit compare_nums(50000,60000)"
   ]
  },
  {
   "cell_type": "code",
   "execution_count": 12,
   "metadata": {},
   "outputs": [],
   "source": [
    "def return_last_number(alist):\n",
    "    return alist[-1]"
   ]
  },
  {
   "cell_type": "code",
   "execution_count": 13,
   "metadata": {},
   "outputs": [
    {
     "name": "stdout",
     "output_type": "stream",
     "text": [
      "274 ns ± 30.4 ns per loop (mean ± std. dev. of 7 runs, 1000000 loops each)\n"
     ]
    }
   ],
   "source": [
    "%timeit return_last_number([1,2])"
   ]
  },
  {
   "cell_type": "code",
   "execution_count": 14,
   "metadata": {},
   "outputs": [
    {
     "name": "stdout",
     "output_type": "stream",
     "text": [
      "307 µs ± 34.3 µs per loop (mean ± std. dev. of 7 runs, 1000 loops each)\n"
     ]
    }
   ],
   "source": [
    "%timeit return_last_number(list(range(10000)))"
   ]
  },
  {
   "cell_type": "code",
   "execution_count": null,
   "metadata": {},
   "outputs": [],
   "source": [
    "#append is constant time\n",
    "\n",
    "def add_num(alist,num):\n",
    "    alist.append(num) #O(1)\n",
    "    return alist"
   ]
  },
  {
   "cell_type": "code",
   "execution_count": null,
   "metadata": {},
   "outputs": [],
   "source": [
    "#indexing is constant\n",
    "def return_at_index(iterable,index):\n",
    "    element_at_index = iterable[index] #O(1)\n",
    "    return element_at_index"
   ]
  },
  {
   "cell_type": "markdown",
   "metadata": {},
   "source": [
    "##### O(n) Example\n",
    "The execution time increases linearly with the length of the input. For each growth in size of the input, the time it takes to run increases by the same amount."
   ]
  },
  {
   "cell_type": "code",
   "execution_count": 23,
   "metadata": {
    "scrolled": true
   },
   "outputs": [],
   "source": [
    "def print_elements(alist):\n",
    "#     print('Printing all elements') #O(1) bc runs 1 time no matter what\n",
    "    for e in alist: #O(N) bc runs 1 more time for every index position in list\n",
    "        pass\n",
    "#time complexity O(n + 1) = O(n) linear\n",
    "print_elements('abc')\n",
    "print_elements('abcdefghijklmnopqrstuvwxyz')"
   ]
  },
  {
   "cell_type": "code",
   "execution_count": 25,
   "metadata": {},
   "outputs": [
    {
     "name": "stdout",
     "output_type": "stream",
     "text": [
      "807 ns ± 60.5 ns per loop (mean ± std. dev. of 7 runs, 1000000 loops each)\n"
     ]
    }
   ],
   "source": [
    "%timeit print_elements('abcdefghffsdhsdjfjidfdf')"
   ]
  },
  {
   "cell_type": "code",
   "execution_count": 26,
   "metadata": {},
   "outputs": [
    {
     "data": {
      "text/plain": [
       "26"
      ]
     },
     "execution_count": 26,
     "metadata": {},
     "output_type": "execute_result"
    }
   ],
   "source": [
    "def print_elements(alist):\n",
    "    step = 0\n",
    "    for e in alist: #O(n) bc runs 1 more time for every index position in list\n",
    "        step +=1\n",
    "    return step\n",
    "print_elements('abcdefghijklmnopqrstuvwxyz')"
   ]
  },
  {
   "cell_type": "code",
   "execution_count": 28,
   "metadata": {},
   "outputs": [
    {
     "data": {
      "text/plain": [
       "'count =15 steps =5'"
      ]
     },
     "execution_count": 28,
     "metadata": {},
     "output_type": "execute_result"
    }
   ],
   "source": [
    "def add_all_nums(alist):\n",
    "    count = 0 #O(1)\n",
    "    steps = 0 #O(1)\n",
    "    for num in alist: #O(n)\n",
    "        count+=num #O(1)\n",
    "        steps+=1 #O(1)\n",
    "    return f'{count = } {steps = }'\n",
    "\n",
    "#time complexity of add_all_nums = O(n + 4*1) = O(n)\n",
    "\n",
    "add_all_nums([1,2,3,4,5])\n",
    "\n",
    "def sum_with_built_in(alist):\n",
    "    return sum(alist) #O(n)"
   ]
  },
  {
   "cell_type": "code",
   "execution_count": null,
   "metadata": {},
   "outputs": [],
   "source": [
    "#linear methods\n",
    "#.count()  .index()  .pop()  .insert()\n",
    "#linear str methods\n",
    "#.upper()  .lower()  <-- based off size of str passed in\n"
   ]
  },
  {
   "cell_type": "code",
   "execution_count": null,
   "metadata": {},
   "outputs": [],
   "source": [
    "#steps in our loop don't increase the size of input -> constant\n",
    "def check_vowell(astring):\n",
    "    vowells = 'aeiou' #O(1)\n",
    "    for letter in vowells: #O(1)\n",
    "        if letter == astring[0].lower(): #O(1)\n",
    "            return True\n",
    "    return False"
   ]
  },
  {
   "cell_type": "code",
   "execution_count": null,
   "metadata": {},
   "outputs": [],
   "source": [
    "#linear membership checks => list, tuple, string\n",
    "\n",
    "print('h' in 'abcdefgh') #worst case O(n)"
   ]
  },
  {
   "cell_type": "code",
   "execution_count": null,
   "metadata": {},
   "outputs": [],
   "source": [
    "# membership check on dict or set is constant\n",
    "print ('z' in {'b','c','d','a'}) #O(1) bc it only searches rather than iterating"
   ]
  },
  {
   "cell_type": "markdown",
   "metadata": {},
   "source": [
    "##### O(log(n))\n",
    "A logarithmic time complexity increases linearly as the input increases exponentially. Usually this occurs when we decrease the size of our input as we move through our algorithm. It is O(log(n)) when we do divide and conquer type of algorithms like binary search. \n",
    "\n",
    "Additional Explanations:\n",
    "https://www.youtube.com/watch?v=wjDY5RbILno\n"
   ]
  },
  {
   "cell_type": "code",
   "execution_count": 52,
   "metadata": {},
   "outputs": [
    {
     "data": {
      "text/plain": [
       "17"
      ]
     },
     "execution_count": 52,
     "metadata": {},
     "output_type": "execute_result"
    }
   ],
   "source": [
    "def example_log_n(num):\n",
    "    count, step = 1, 0\n",
    "    while num > count:\n",
    "        count *= 2\n",
    "        step += 1\n",
    "    return step\n",
    "\n",
    "example_log_n(100000)"
   ]
  },
  {
   "cell_type": "code",
   "execution_count": 58,
   "metadata": {},
   "outputs": [
    {
     "data": {
      "text/plain": [
       "'target = 7 found at position 7 step = 13'"
      ]
     },
     "execution_count": 58,
     "metadata": {},
     "output_type": "execute_result"
    }
   ],
   "source": [
    "#input is a sorted list\n",
    "\n",
    "#determine the middle\n",
    "#evaluate if middle is target\n",
    "#decide if target is > or <\n",
    "#if greater move our left boundary to the midle +1\n",
    "#otherwise move right boundary\n",
    "#until we find the target\n",
    "\n",
    "def binary_search(alist, target):\n",
    "    left,right = 0, len(alist)-1\n",
    "    step = 0\n",
    "    while True:\n",
    "        mid = (left + right) // 2\n",
    "        if alist[mid] == target:\n",
    "            return f'{target = } found at position {mid} {step = }'\n",
    "        elif target > alist[mid]:\n",
    "            left = mid + 1 \n",
    "        else:\n",
    "            right = mid - 1\n",
    "        step += 1\n",
    "\n",
    "binary_search(list(range(10000)),7)"
   ]
  },
  {
   "cell_type": "code",
   "execution_count": null,
   "metadata": {},
   "outputs": [],
   "source": [
    "binary_search\n",
    "for i in range(100):\n",
    "    "
   ]
  },
  {
   "cell_type": "markdown",
   "metadata": {},
   "source": [
    "###### O(n^2) Example\n",
    "When an algorithm needs to perform a linear time operation for each value in the input data"
   ]
  },
  {
   "cell_type": "code",
   "execution_count": null,
   "metadata": {},
   "outputs": [],
   "source": [
    "#multiple linear ops where neither are nested -> linear\n",
    "\n",
    "def example_linear(alist):\n",
    "    example_list = [] #O(1)\n",
    "    for e in alist: #O(n)\n",
    "        example_list.append(e) #O(1)\n",
    "    for e in example_list: #o(n)\n",
    "        pass\n",
    "    return\n",
    "\n",
    "#time complexity O(n+n) = O(n) linear"
   ]
  },
  {
   "cell_type": "code",
   "execution_count": 34,
   "metadata": {},
   "outputs": [
    {
     "data": {
      "text/plain": [
       "1000000"
      ]
     },
     "execution_count": 34,
     "metadata": {},
     "output_type": "execute_result"
    }
   ],
   "source": [
    "#linear opperation nested in another linear operation\n",
    "def print_quadratic_elements(alist):\n",
    "    step = 0 #O(n)\n",
    "    for num in alist: #O(n)\n",
    "        for num2 in alist: #O(n)\n",
    "            step += 1 #O(1)\n",
    "            pass\n",
    "    return step\n",
    "#time complexity O(n^2) linear op nested inside another linear op\n",
    "\n",
    "print_quadratic_elements([i for i in range(1000)])"
   ]
  },
  {
   "cell_type": "code",
   "execution_count": 35,
   "metadata": {},
   "outputs": [
    {
     "data": {
      "text/plain": [
       "{1: 2, 3: 2, 4: 1, 7: 3}"
      ]
     },
     "execution_count": 35,
     "metadata": {},
     "output_type": "execute_result"
    }
   ],
   "source": [
    "input_list = [1,3,1,3,4,7,7,7]\n",
    "output = {1:2, 3:2, 4:1, 7:3}\n",
    "\n",
    "def create_hash_map(alist):\n",
    "    hash_map = {} #O(1)\n",
    "    for e in alist: #O(n)\n",
    "        hash_map[e] = alist.count(e) #O(n) .count() is linear\n",
    "    return hash_map #0(1)\n",
    "\n",
    "create_hash_map(input_list)"
   ]
  },
  {
   "cell_type": "code",
   "execution_count": 37,
   "metadata": {},
   "outputs": [
    {
     "data": {
      "text/plain": [
       "{1: 2, 3: 2, 4: 1, 7: 3}"
      ]
     },
     "execution_count": 37,
     "metadata": {},
     "output_type": "execute_result"
    }
   ],
   "source": [
    "input_list = [1,3,1,3,4,7,7,7]\n",
    "def create_hash_map_linear(alist):\n",
    "    hash_map = {}\n",
    "    for e in alist:\n",
    "#         if e not in has_map:\n",
    "#             hash_map[e] = 0\n",
    "#         has_map[e] += 1\n",
    "        hash_map[e] = hash_map.get(e, 0) + 1\n",
    "    return hash_map\n",
    "create_hash_map_linear(input_list)"
   ]
  },
  {
   "cell_type": "code",
   "execution_count": 43,
   "metadata": {},
   "outputs": [
    {
     "name": "stdout",
     "output_type": "stream",
     "text": [
      "20.4 ms ± 1.6 ms per loop (mean ± std. dev. of 7 runs, 10 loops each)\n"
     ]
    }
   ],
   "source": [
    "%timeit create_hash_map(list(range(1000)))"
   ]
  },
  {
   "cell_type": "code",
   "execution_count": 42,
   "metadata": {},
   "outputs": [
    {
     "name": "stdout",
     "output_type": "stream",
     "text": [
      "379 µs ± 72.9 µs per loop (mean ± std. dev. of 7 runs, 1000 loops each)\n"
     ]
    }
   ],
   "source": [
    "%timeit create_hash_map_linear(list(range(1000)))"
   ]
  },
  {
   "cell_type": "code",
   "execution_count": null,
   "metadata": {},
   "outputs": [],
   "source": [
    "def loop_matrix(matrix):\n",
    "    for l in matrix: #O(n)\n",
    "        for e in l: #O(n)\n",
    "            print(e) #O(1)\n",
    "    return\n",
    "#this is O(n^2)\n",
    "#tecnically it is O(n*m)  where m is avg len of list\n",
    "loop_matrix([[1,23,4],['a','b','c']['1']])"
   ]
  },
  {
   "cell_type": "markdown",
   "metadata": {},
   "source": [
    "### In-Class Exercise\n",
    "In a comment in the following three cells, classify each algorithm into one of the time complexities discussed above."
   ]
  },
  {
   "cell_type": "code",
   "execution_count": 1,
   "metadata": {},
   "outputs": [],
   "source": [
    "def two_sum_loops(nums, target):\n",
    "    for i, num in enumerate(nums): #O(n)\n",
    "        for j, num2 in enumerate(nums[i + 1:]): #O(n)\n",
    "            if target - num == num2: #O(1)\n",
    "                return [i,j+i+1]#O(1)\n",
    "            \n",
    "            #O(n^2)"
   ]
  },
  {
   "cell_type": "code",
   "execution_count": 3,
   "metadata": {},
   "outputs": [],
   "source": [
    "def two_sum(nums, target):\n",
    "    d={} #O(1)\n",
    "    for i, num in enumerate(nums): #O(n)\n",
    "        if target - num in d: #O(1)\n",
    "            return [d[target-num],i]#O(1)\n",
    "        d[num]=i #O(1)\n",
    "    return -1 #O(1)\n",
    "\n",
    "#O(n)"
   ]
  },
  {
   "cell_type": "code",
   "execution_count": 4,
   "metadata": {},
   "outputs": [],
   "source": [
    "def check_if_num_in_list(a_list, value): \n",
    "    return value in a_list #O(n) bc list"
   ]
  },
  {
   "cell_type": "markdown",
   "metadata": {},
   "source": [
    "## Space Complexity\n",
    "Space complexity refers to the total amount of memory space that is consumed by an algorithm. This value includes both any new values created as well as well as input values\n",
    "\n",
    "We'll use Big O notation for space complexity as well. In this case, Big O gives the worst-case of an algorithm’s growth rate. \n",
    "\n",
    "\"The space this algorithm takes will grow no more quickly than this, but it could grow more slowly.\""
   ]
  },
  {
   "cell_type": "markdown",
   "metadata": {},
   "source": [
    "###### O(1) Example"
   ]
  },
  {
   "cell_type": "code",
   "execution_count": null,
   "metadata": {},
   "outputs": [],
   "source": [
    "# O(1) + O(1) coming from inputs = O(1+1) -> O(1)\n",
    "def add_nums(num1,num2):\n",
    "    return num1 + num2\n",
    "\n",
    "def add_nums(num1,num2): #O(1+1+1) -> O(1)\n",
    "    #O(1) auxilary\n",
    "    num_sum = num1+num2\n",
    "    return num_sum"
   ]
  },
  {
   "cell_type": "markdown",
   "metadata": {},
   "source": [
    "###### O(n) Example\n",
    "Input Space: O(n) <- This comes from aList in the input\n",
    "Auxiliary Space: O(1) <- The only variables created in the function are integers\n",
    "\n",
    "Total Space: O(n + 1) or O(n)"
   ]
  },
  {
   "cell_type": "code",
   "execution_count": 59,
   "metadata": {},
   "outputs": [
    {
     "data": {
      "text/plain": [
       "[0, 1, 2, 3, 4, 5, 6, 7, 8, 9]"
      ]
     },
     "execution_count": 59,
     "metadata": {},
     "output_type": "execute_result"
    }
   ],
   "source": [
    "def range_list(num):\n",
    "    output_list = [] #O(1)\n",
    "    for num in range(num): \n",
    "        output_list.append(num) #O(n)\n",
    "    return output_list\n",
    "\n",
    "range_list(10)"
   ]
  },
  {
   "cell_type": "code",
   "execution_count": null,
   "metadata": {},
   "outputs": [],
   "source": [
    "def print_nums(alist):  #O(n) bc its a list\n",
    "    for num in alist:\n",
    "        print(num)"
   ]
  },
  {
   "cell_type": "markdown",
   "metadata": {},
   "source": [
    "The recursive calls generate new function calls in the stack. Each call on the stack stores a separate copy of the variables defined in the function. The array is passed by reference so a separate copy of the array is not created for each function call. As we can have O(log(n)) calls to the function, the space complexity of the recursive version should include the O(log(n)) auxiliary space. Hence, the overall space complexity is:\n",
    "\n",
    "Input space: O(n)\n",
    "Auxiliary space: O(log n)\n",
    "\n",
    "Total Space: O(n + log n) OR O(n)"
   ]
  },
  {
   "cell_type": "code",
   "execution_count": 62,
   "metadata": {},
   "outputs": [
    {
     "data": {
      "text/plain": [
       "'target = 7 found'"
      ]
     },
     "execution_count": 62,
     "metadata": {},
     "output_type": "execute_result"
    }
   ],
   "source": [
    "def binary_search_recursive(alist,target):\n",
    "    mid = (len(alist) -1) // 2\n",
    "    current_num = alist[mid]\n",
    "    if alist[mid] == target:\n",
    "        return f\"{target = } found\"\n",
    "    if target > current_num:\n",
    "        return binary_search_recursive(alist[mid:], target)\n",
    "    else:\n",
    "        return binary_search_recursive(alist[:mid], target)\n",
    "    \n",
    "binary_search_recursive(list(range(100)),7)"
   ]
  },
  {
   "cell_type": "code",
   "execution_count": null,
   "metadata": {},
   "outputs": [],
   "source": []
  }
 ],
 "metadata": {
  "kernelspec": {
   "display_name": "Python 3 (ipykernel)",
   "language": "python",
   "name": "python3"
  },
  "language_info": {
   "codemirror_mode": {
    "name": "ipython",
    "version": 3
   },
   "file_extension": ".py",
   "mimetype": "text/x-python",
   "name": "python",
   "nbconvert_exporter": "python",
   "pygments_lexer": "ipython3",
   "version": "3.9.13"
  }
 },
 "nbformat": 4,
 "nbformat_minor": 2
}
